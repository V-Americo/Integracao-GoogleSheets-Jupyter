{
 "cells": [
  {
   "cell_type": "code",
   "execution_count": 38,
   "id": "1cd69108-8090-4d22-9cc7-a235c6f7f600",
   "metadata": {},
   "outputs": [],
   "source": [
    "import gspread\n",
    "from oauth2client.service_account import ServiceAccountCredentials\n",
    "import pandas as pd"
   ]
  },
  {
   "cell_type": "code",
   "execution_count": 53,
   "id": "4208d0da-40df-4eb7-a791-4786bfbaa76c",
   "metadata": {},
   "outputs": [
    {
     "name": "stdout",
     "output_type": "stream",
     "text": [
      "   AQUINO        REGO  oi  oi  oi  oi      oi  oi      ...                  \\\n",
      "0       1    altercao  oi  oi  oi  oi      oi  oi      ...                   \n",
      "1       2  alteracao2  oi  oi  oi  oi      oi  oi      ...                   \n",
      "2  AQUINO        REGO  oi  oi  oi  oi  wdwdwd  oi      ...                   \n",
      "3       1    altercao  oi  oi  oi  oi      oi  oi      ...                   \n",
      "4       2  alteracao2  oi  oi  oi  oi      oi  oi      ...                   \n",
      "\n",
      "                                       \n",
      "0                                      \n",
      "1                                      \n",
      "2  Coluna Alterada  Coluna Alterada 2  \n",
      "3                1           altercao  \n",
      "4                2         alteracao2  \n",
      "\n",
      "[5 rows x 21 columns]\n"
     ]
    }
   ],
   "source": [
    "\n",
    "# Configuraçã o escopo e as credenciais\n",
    "scope = [\"https://spreadsheets.google.com/feeds\", \"https://www.googleapis.com/auth/drive\"]\n",
    "creds = ServiceAccountCredentials.from_json_keyfile_name('client_secret.json', scope)\n",
    "client = gspread.authorize(creds)\n",
    "\n",
    "# Aqui vou abrir a planilha pelo URL \n",
    "spreadsheet = client.open_by_url('https://docs.google.com/spreadsheets/d/1piWCdIpTHXZp4a_2F3dRa_Z0l8H_CegqmydKhGjtlJ4/edit?usp=sharing')\n",
    "\n",
    "# Seleciona a primeira aba da planilha do sheets\n",
    "sheet = spreadsheet.sheet1\n",
    "\n",
    "info = sheet.get_all_values()\n",
    "\n",
    "df_1 = pd.DataFrame(info[1:], columns=info[0])\n",
    "print(df_1.head())"
   ]
  },
  {
   "cell_type": "code",
   "execution_count": 52,
   "id": "cc4cbb8e-00d4-4a45-a6ce-0de6f6247e74",
   "metadata": {},
   "outputs": [
    {
     "name": "stderr",
     "output_type": "stream",
     "text": [
      "C:\\Users\\victo\\AppData\\Local\\Temp\\ipykernel_12512\\2999810309.py:10: DeprecationWarning: The order of arguments in worksheet.update() has changed. Please pass values first and range_name secondor used named arguments (range_name=, values=)\n",
      "  sheet.update('T4', values)\n"
     ]
    },
    {
     "name": "stdout",
     "output_type": "stream",
     "text": [
      "Verifique a planilha no Google Sheets!\n"
     ]
    }
   ],
   "source": [
    "# Aqui eu vou alterar as colunas para atualiza rno sheets\n",
    "data = {'Coluna Alterada':[1,2,3], 'Coluna Alterada 2':['altercao','alteracao2','alteracao3']}\n",
    "#vou criar o df com essas infos ai de cima\n",
    "df_2 = pd.DataFrame(data)\n",
    "\n",
    "#Precisa ser transformada em lista\n",
    "values = [df_2.columns.values.tolist()] + df_2.values.tolist()\n",
    "\n",
    "#vamo atualizar agr a plpanilha\n",
    "sheet.update('T4', values)\n",
    "\n",
    "print('Verifique a planilha no Google Sheets!')"
   ]
  },
  {
   "cell_type": "code",
   "execution_count": null,
   "id": "de734814-e80d-48b5-b297-869f053cb109",
   "metadata": {},
   "outputs": [],
   "source": []
  }
 ],
 "metadata": {
  "kernelspec": {
   "display_name": "Python 3 (ipykernel)",
   "language": "python",
   "name": "python3"
  },
  "language_info": {
   "codemirror_mode": {
    "name": "ipython",
    "version": 3
   },
   "file_extension": ".py",
   "mimetype": "text/x-python",
   "name": "python",
   "nbconvert_exporter": "python",
   "pygments_lexer": "ipython3",
   "version": "3.12.3"
  }
 },
 "nbformat": 4,
 "nbformat_minor": 5
}
